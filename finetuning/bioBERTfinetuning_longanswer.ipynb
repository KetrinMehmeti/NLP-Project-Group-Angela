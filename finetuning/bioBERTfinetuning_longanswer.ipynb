{
  "cells": [
    {
      "cell_type": "markdown",
      "metadata": {},
      "source": [
        "# BioBERT-based model to classify biomedical QA pairs into yes/no/maybe."
      ]
    },
    {
      "cell_type": "markdown",
      "metadata": {},
      "source": [
        "Two-stage pipeline:\n",
        "  1. Fine-tune BioBERT on labeled + (weighted) artificial data.\n",
        "  2. Evaluate model."
      ]
    },
    {
      "cell_type": "markdown",
      "metadata": {},
      "source": [
        "## Importing Dataset"
      ]
    },
    {
      "cell_type": "code",
      "execution_count": null,
      "metadata": {},
      "outputs": [],
      "source": [
        "from datasets import load_dataset\n",
        "\n",
        "# Load the labeled, unlabeled, and artificial subsets of PubMedQA\n",
        "# The dataset is split into three subsets:\n",
        "\n",
        "dataset_labeled = load_dataset(\"qiaojin/PubMedQA\", 'pqa_labeled')\n",
        "dataset_unlabeled = load_dataset(\"qiaojin/PubMedQA\", 'pqa_unlabeled')\n",
        "dataset_artificial = load_dataset('qiaojin/PubMedQA', 'pqa_artificial')"
      ]
    },
    {
      "cell_type": "code",
      "execution_count": null,
      "metadata": {},
      "outputs": [],
      "source": [
        "# Convert the datasets to pandas DataFrames for easier manipulation\n",
        "import pandas as pd\n",
        "\n",
        "df_labeled_original = pd.DataFrame(dataset_labeled['train'])\n",
        "df_unlabeled_original = pd.DataFrame(dataset_unlabeled['train'])\n",
        "df_artificial_original = pd.DataFrame(dataset_artificial['train'])"
      ]
    },
    {
      "cell_type": "code",
      "execution_count": null,
      "metadata": {},
      "outputs": [],
      "source": [
        "# Make a copy of the original datasets to work on\n",
        "df_labeled = df_labeled_original.copy()\n",
        "df_unlabeled = df_unlabeled_original.copy()\n",
        "df_artificial = df_artificial_original.copy()"
      ]
    },
    {
      "cell_type": "markdown",
      "metadata": {},
      "source": [
        "## Preprocessing"
      ]
    },
    {
      "cell_type": "code",
      "execution_count": null,
      "metadata": {},
      "outputs": [],
      "source": [
        "df_labeled_clean = df_labeled[df_labeled['final_decision'] != \"maybe\"]\n",
        "\n",
        "label_map = {'yes': 0, 'no': 1}\n",
        "df_labeled['label'] = df_labeled['final_decision'].map(label_map)\n",
        "df_artificial['label'] = df_artificial['final_decision'].map(label_map)"
      ]
    },
    {
      "cell_type": "code",
      "execution_count": null,
      "metadata": {},
      "outputs": [],
      "source": [
        "df_labeled_final = df_labeled[['question','long_answer', 'label']]\n",
        "df_artificial_final = df_artificial[['question','long_answer', 'label']]"
      ]
    },
    {
      "cell_type": "code",
      "execution_count": null,
      "metadata": {},
      "outputs": [
        {
          "name": "stdout",
          "output_type": "stream",
          "text": [
            "label\n",
            "0    552\n",
            "1    338\n",
            "Name: count, dtype: int64\n",
            "label\n",
            "0    196144\n",
            "1     15125\n",
            "Name: count, dtype: int64\n"
          ]
        }
      ],
      "source": [
        "# Check class distribution\n",
        "print(df_labeled_final['label'].value_counts())\n",
        "print(df_artificial_final['label'].value_counts())"
      ]
    },
    {
      "cell_type": "code",
      "execution_count": null,
      "metadata": {},
      "outputs": [
        {
          "name": "stdout",
          "output_type": "stream",
          "text": [
            "label\n",
            "1    15125\n",
            "0    15125\n",
            "Name: count, dtype: int64\n"
          ]
        }
      ],
      "source": [
        "# Balance Artificial Dataset (Downsampling)\n",
        "df_artificial_final = df_artificial_final.groupby('label').sample(n=min(df_artificial_final['label'].value_counts()), random_state=42)\n",
        "# Shuffle the dataset\n",
        "df_artificial_final = df_artificial_final.sample(frac=1, random_state=42)\n",
        "print(df_artificial_final['label'].value_counts())"
      ]
    },
    {
      "cell_type": "code",
      "execution_count": null,
      "metadata": {},
      "outputs": [
        {
          "data": {
            "text/plain": [
              "30250"
            ]
          },
          "metadata": {},
          "output_type": "display_data"
        }
      ],
      "source": [
        "len(df_artificial_final)"
      ]
    },
    {
      "cell_type": "code",
      "execution_count": null,
      "metadata": {},
      "outputs": [
        {
          "data": {
            "text/html": [
              "<div>\n",
              "<style scoped>\n",
              "    .dataframe tbody tr th:only-of-type {\n",
              "        vertical-align: middle;\n",
              "    }\n",
              "\n",
              "    .dataframe tbody tr th {\n",
              "        vertical-align: top;\n",
              "    }\n",
              "\n",
              "    .dataframe thead th {\n",
              "        text-align: right;\n",
              "    }\n",
              "</style>\n",
              "<table border=\"1\" class=\"dataframe\">\n",
              "  <thead>\n",
              "    <tr style=\"text-align: right;\">\n",
              "      <th></th>\n",
              "      <th>question</th>\n",
              "      <th>long_answer</th>\n",
              "      <th>label</th>\n",
              "    </tr>\n",
              "  </thead>\n",
              "  <tbody>\n",
              "    <tr>\n",
              "      <th>117741</th>\n",
              "      <td>Are common genetic variants in the microRNA bi...</td>\n",
              "      <td>The common genetic variants in miRNA biogenesi...</td>\n",
              "      <td>1</td>\n",
              "    </tr>\n",
              "    <tr>\n",
              "      <th>164514</th>\n",
              "      <td>Do y-SNPs indicate hybridisation between Europ...</td>\n",
              "      <td>The model of a rapid introduction of domestic ...</td>\n",
              "      <td>1</td>\n",
              "    </tr>\n",
              "    <tr>\n",
              "      <th>178755</th>\n",
              "      <td>Is genetic polymorphisms ofCYP2A6 andCYP2E1 wi...</td>\n",
              "      <td>Our data indicate that neither a relationship ...</td>\n",
              "      <td>1</td>\n",
              "    </tr>\n",
              "    <tr>\n",
              "      <th>51724</th>\n",
              "      <td>Does a background infusion of morphine enhance...</td>\n",
              "      <td>PCA with morphine effectively controlled posto...</td>\n",
              "      <td>1</td>\n",
              "    </tr>\n",
              "    <tr>\n",
              "      <th>67278</th>\n",
              "      <td>Do neutrophils promote aerogenous spread of lu...</td>\n",
              "      <td>Tumor shedding is induced by neutrophils. It i...</td>\n",
              "      <td>0</td>\n",
              "    </tr>\n",
              "  </tbody>\n",
              "</table>\n",
              "</div>"
            ],
            "text/plain": [
              "                                                 question  \\\n",
              "117741  Are common genetic variants in the microRNA bi...   \n",
              "164514  Do y-SNPs indicate hybridisation between Europ...   \n",
              "178755  Is genetic polymorphisms ofCYP2A6 andCYP2E1 wi...   \n",
              "51724   Does a background infusion of morphine enhance...   \n",
              "67278   Do neutrophils promote aerogenous spread of lu...   \n",
              "\n",
              "                                              long_answer  label  \n",
              "117741  The common genetic variants in miRNA biogenesi...      1  \n",
              "164514  The model of a rapid introduction of domestic ...      1  \n",
              "178755  Our data indicate that neither a relationship ...      1  \n",
              "51724   PCA with morphine effectively controlled posto...      1  \n",
              "67278   Tumor shedding is induced by neutrophils. It i...      0  "
            ]
          },
          "metadata": {},
          "output_type": "display_data"
        }
      ],
      "source": [
        "df_train = df_artificial_final\n",
        "df_train.head()"
      ]
    },
    {
      "cell_type": "code",
      "execution_count": null,
      "metadata": {},
      "outputs": [
        {
          "data": {
            "text/plain": [
              "108"
            ]
          },
          "metadata": {},
          "output_type": "display_data"
        }
      ],
      "source": [
        "len(df_train['long_answer'].iloc[0])"
      ]
    },
    {
      "cell_type": "code",
      "execution_count": null,
      "metadata": {},
      "outputs": [
        {
          "data": {
            "text/html": [
              "<div>\n",
              "<style scoped>\n",
              "    .dataframe tbody tr th:only-of-type {\n",
              "        vertical-align: middle;\n",
              "    }\n",
              "\n",
              "    .dataframe tbody tr th {\n",
              "        vertical-align: top;\n",
              "    }\n",
              "\n",
              "    .dataframe thead th {\n",
              "        text-align: right;\n",
              "    }\n",
              "</style>\n",
              "<table border=\"1\" class=\"dataframe\">\n",
              "  <thead>\n",
              "    <tr style=\"text-align: right;\">\n",
              "      <th></th>\n",
              "      <th>question</th>\n",
              "      <th>long_answer</th>\n",
              "      <th>label</th>\n",
              "    </tr>\n",
              "  </thead>\n",
              "  <tbody>\n",
              "    <tr>\n",
              "      <th>210997</th>\n",
              "      <td>Do negative attitudes among short-term stroke ...</td>\n",
              "      <td>Patients' attitudes toward their illness seem ...</td>\n",
              "      <td>0</td>\n",
              "    </tr>\n",
              "    <tr>\n",
              "      <th>41086</th>\n",
              "      <td>Do tumor Enhancement and Heterogeneity Are Ass...</td>\n",
              "      <td>Tumor heterogeneity and enhancement on arteria...</td>\n",
              "      <td>0</td>\n",
              "    </tr>\n",
              "    <tr>\n",
              "      <th>77354</th>\n",
              "      <td>Are cortisol patterns associated with T cell a...</td>\n",
              "      <td>These data suggest that the hypothalamic-pitui...</td>\n",
              "      <td>0</td>\n",
              "    </tr>\n",
              "    <tr>\n",
              "      <th>150082</th>\n",
              "      <td>Does miRNA expression profiling enable risk st...</td>\n",
              "      <td>In this study, we present the largest NB miRNA...</td>\n",
              "      <td>0</td>\n",
              "    </tr>\n",
              "    <tr>\n",
              "      <th>160332</th>\n",
              "      <td>Is use of proton pump inhibitors associated wi...</td>\n",
              "      <td>Use of PPI was associated with anemia in Japan...</td>\n",
              "      <td>0</td>\n",
              "    </tr>\n",
              "  </tbody>\n",
              "</table>\n",
              "</div>"
            ],
            "text/plain": [
              "                                                 question  \\\n",
              "210997  Do negative attitudes among short-term stroke ...   \n",
              "41086   Do tumor Enhancement and Heterogeneity Are Ass...   \n",
              "77354   Are cortisol patterns associated with T cell a...   \n",
              "150082  Does miRNA expression profiling enable risk st...   \n",
              "160332  Is use of proton pump inhibitors associated wi...   \n",
              "\n",
              "                                              long_answer  label  \n",
              "210997  Patients' attitudes toward their illness seem ...      0  \n",
              "41086   Tumor heterogeneity and enhancement on arteria...      0  \n",
              "77354   These data suggest that the hypothalamic-pitui...      0  \n",
              "150082  In this study, we present the largest NB miRNA...      0  \n",
              "160332  Use of PPI was associated with anemia in Japan...      0  "
            ]
          },
          "metadata": {},
          "output_type": "display_data"
        }
      ],
      "source": [
        "from sklearn.model_selection import train_test_split\n",
        "\n",
        "# Split df_train into train and validation\n",
        "df_train_split, df_val_split = train_test_split(df_train, test_size=0.1, random_state=42, stratify=df_train['label'])\n",
        "df_val_split.head()"
      ]
    },
    {
      "cell_type": "code",
      "execution_count": null,
      "metadata": {},
      "outputs": [
        {
          "data": {
            "text/html": [
              "<div>\n",
              "<style scoped>\n",
              "    .dataframe tbody tr th:only-of-type {\n",
              "        vertical-align: middle;\n",
              "    }\n",
              "\n",
              "    .dataframe tbody tr th {\n",
              "        vertical-align: top;\n",
              "    }\n",
              "\n",
              "    .dataframe thead th {\n",
              "        text-align: right;\n",
              "    }\n",
              "</style>\n",
              "<table border=\"1\" class=\"dataframe\">\n",
              "  <thead>\n",
              "    <tr style=\"text-align: right;\">\n",
              "      <th></th>\n",
              "      <th>question</th>\n",
              "      <th>long_answer</th>\n",
              "      <th>label</th>\n",
              "    </tr>\n",
              "  </thead>\n",
              "  <tbody>\n",
              "    <tr>\n",
              "      <th>0</th>\n",
              "      <td>Do mitochondria play a role in remodelling lac...</td>\n",
              "      <td>Results depicted mitochondrial dynamics in viv...</td>\n",
              "      <td>0</td>\n",
              "    </tr>\n",
              "    <tr>\n",
              "      <th>1</th>\n",
              "      <td>Landolt C and snellen e acuity: differences in...</td>\n",
              "      <td>Using the charts described, there was only a s...</td>\n",
              "      <td>1</td>\n",
              "    </tr>\n",
              "    <tr>\n",
              "      <th>2</th>\n",
              "      <td>Syncope during bathing in infants, a pediatric...</td>\n",
              "      <td>\"Aquagenic maladies\" could be a pediatric form...</td>\n",
              "      <td>0</td>\n",
              "    </tr>\n",
              "    <tr>\n",
              "      <th>3</th>\n",
              "      <td>Are the long-term results of the transanal pul...</td>\n",
              "      <td>Our long-term study showed significantly bette...</td>\n",
              "      <td>1</td>\n",
              "    </tr>\n",
              "    <tr>\n",
              "      <th>4</th>\n",
              "      <td>Can tailored interventions increase mammograph...</td>\n",
              "      <td>The effects of the intervention were most pron...</td>\n",
              "      <td>0</td>\n",
              "    </tr>\n",
              "  </tbody>\n",
              "</table>\n",
              "</div>"
            ],
            "text/plain": [
              "                                            question  \\\n",
              "0  Do mitochondria play a role in remodelling lac...   \n",
              "1  Landolt C and snellen e acuity: differences in...   \n",
              "2  Syncope during bathing in infants, a pediatric...   \n",
              "3  Are the long-term results of the transanal pul...   \n",
              "4  Can tailored interventions increase mammograph...   \n",
              "\n",
              "                                         long_answer  label  \n",
              "0  Results depicted mitochondrial dynamics in viv...      0  \n",
              "1  Using the charts described, there was only a s...      1  \n",
              "2  \"Aquagenic maladies\" could be a pediatric form...      0  \n",
              "3  Our long-term study showed significantly bette...      1  \n",
              "4  The effects of the intervention were most pron...      0  "
            ]
          },
          "metadata": {},
          "output_type": "display_data"
        }
      ],
      "source": [
        "df_test = df_labeled_final\n",
        "df_test.head()"
      ]
    },
    {
      "cell_type": "markdown",
      "metadata": {},
      "source": [
        "## Finetune BioBERT for QA Classification"
      ]
    },
    {
      "cell_type": "markdown",
      "metadata": {},
      "source": [
        "Tokenize the data"
      ]
    },
    {
      "cell_type": "code",
      "execution_count": null,
      "metadata": {},
      "outputs": [],
      "source": [
        "from transformers import AutoTokenizer\n",
        "import torch\n",
        "\n",
        "# Load the tokenizer\n",
        "tokenizer = AutoTokenizer.from_pretrained('dmis-lab/biobert-v1.1')\n",
        "\n",
        "def encode_data(tokenizer, questions, contexts, max_length):\n",
        "    encoding = tokenizer(\n",
        "        questions,\n",
        "        contexts,\n",
        "        truncation=True,\n",
        "        padding='max_length',\n",
        "        max_length=max_length,\n",
        "        return_tensors='pt'\n",
        "    )\n",
        "    return encoding['input_ids'], encoding['attention_mask'], encoding['token_type_ids']\n"
      ]
    },
    {
      "cell_type": "code",
      "execution_count": null,
      "metadata": {},
      "outputs": [],
      "source": [
        "questions = df_train_split[\"question\"].tolist()\n",
        "contexts = df_train_split[\"long_answer\"].tolist()\n",
        "\n",
        "input_ids, attention_mask, token_type_ids = encode_data(\n",
        "    tokenizer,\n",
        "    questions,\n",
        "    contexts,\n",
        "    max_length=512\n",
        ")\n"
      ]
    },
    {
      "cell_type": "code",
      "execution_count": null,
      "metadata": {},
      "outputs": [],
      "source": [
        "questions_val = df_val_split[\"question\"].tolist()\n",
        "contexts_val = df_val_split[\"long_answer\"].tolist()\n",
        "\n",
        "input_ids_val, attention_mask_val, token_type_ids_val = encode_data(\n",
        "    tokenizer,\n",
        "    questions_val,\n",
        "    contexts_val,\n",
        "    max_length=512\n",
        ")\n"
      ]
    },
    {
      "cell_type": "markdown",
      "metadata": {},
      "source": [
        "Finetuning BioBERT\n"
      ]
    },
    {
      "cell_type": "code",
      "execution_count": null,
      "metadata": {},
      "outputs": [
        {
          "name": "stderr",
          "output_type": "stream",
          "text": [
            "Some weights of BertForSequenceClassification were not initialized from the model checkpoint at dmis-lab/biobert-v1.1 and are newly initialized: ['classifier.bias', 'classifier.weight']\n",
            "You should probably TRAIN this model on a down-stream task to be able to use it for predictions and inference.\n"
          ]
        },
        {
          "data": {
            "text/html": [
              "\n",
              "    <div>\n",
              "      \n",
              "      <progress value='3403' max='3403' style='width:300px; height:20px; vertical-align: middle;'></progress>\n",
              "      [3403/3403 23:06, Epoch 0/1]\n",
              "    </div>\n",
              "    <table border=\"1\" class=\"dataframe\">\n",
              "  <thead>\n",
              " <tr style=\"text-align: left;\">\n",
              "      <th>Epoch</th>\n",
              "      <th>Training Loss</th>\n",
              "      <th>Validation Loss</th>\n",
              "    </tr>\n",
              "  </thead>\n",
              "  <tbody>\n",
              "    <tr>\n",
              "      <td>0</td>\n",
              "      <td>0.168400</td>\n",
              "      <td>0.151503</td>\n",
              "    </tr>\n",
              "  </tbody>\n",
              "</table><p>"
            ],
            "text/plain": [
              "<IPython.core.display.HTML object>"
            ]
          },
          "metadata": {},
          "output_type": "display_data"
        },
        {
          "data": {
            "text/plain": [
              "TrainOutput(global_step=3403, training_loss=0.22475948149479036, metrics={'train_runtime': 1387.8065, 'train_samples_per_second': 19.617, 'train_steps_per_second': 2.452, 'total_flos': 7162935371120640.0, 'train_loss': 0.22475948149479036, 'epoch': 0.9999265408065819})"
            ]
          },
          "metadata": {},
          "output_type": "display_data"
        }
      ],
      "source": [
        "# WE USED 3 EPOCHS AND THE BETTER ONE WA THE FIRST, RERUN WAS NEEDED AND TO \n",
        "\n",
        "from transformers import AutoModelForSequenceClassification, Trainer, TrainingArguments\n",
        "\n",
        "# Load the pre-trained model\n",
        "modelbert = AutoModelForSequenceClassification.from_pretrained('dmis-lab/biobert-v1.1', num_labels=2)\n",
        "# Define the training arguments\n",
        "training_args = TrainingArguments(\n",
        "    output_dir='./results',\n",
        "    num_train_epochs=1, #SEE COMMENT\n",
        "    per_device_train_batch_size=2,  # lower to fit RAM\n",
        "    per_device_eval_batch_size=2,\n",
        "    gradient_accumulation_steps=4,  # effectively 8 if batch size 2\n",
        "    warmup_steps=100,\n",
        "    weight_decay=0.01,\n",
        "    logging_dir='./logs',\n",
        "    logging_steps=100,\n",
        "    eval_strategy=\"epoch\",\n",
        "    save_strategy=\"epoch\",  # Don't save checkpoints to avoid I/O overhead\n",
        "    metric_for_best_model=\"eval_loss\",\n",
        "    #greater_is_better=False,\n",
        "    #load_best_model_at_end=True,\n",
        "    fp16=True,\n",
        ")\n",
        "\n",
        "from datasets import Dataset\n",
        "\n",
        "data = {\n",
        "    'input_ids': input_ids.tolist(),\n",
        "    'attention_mask': attention_mask.tolist(),\n",
        "    'token_type_ids': token_type_ids.tolist(),\n",
        "    'labels': df_train_split['label'].tolist()\n",
        "}\n",
        "\n",
        "train_ds = Dataset.from_dict(data)\n",
        "\n",
        "data_val = {\n",
        "    'input_ids': input_ids_val.tolist(),\n",
        "    'attention_mask': attention_mask_val.tolist(),\n",
        "    'token_type_ids': token_type_ids_val.tolist(),\n",
        "    'labels': df_val_split['label'].tolist()\n",
        "}\n",
        "\n",
        "val_ds = Dataset.from_dict(data_val)\n",
        "\n",
        "# Create the Trainer and start training\n",
        "trainer = Trainer(\n",
        "    model=modelbert,\n",
        "    args=training_args,\n",
        "    train_dataset=train_ds,\n",
        "    eval_dataset = val_ds,\n",
        ")\n",
        "trainer.train()"
      ]
    },
    {
      "cell_type": "markdown",
      "metadata": {},
      "source": [
        "## Testing"
      ]
    },
    {
      "cell_type": "code",
      "execution_count": null,
      "metadata": {},
      "outputs": [],
      "source": [
        "questions_test = df_test[\"question\"].tolist()\n",
        "contexts_test = df_test[\"long_answer\"].tolist()\n",
        "\n",
        "input_ids_test, attention_mask_test, token_type_ids_test = encode_data(\n",
        "    tokenizer,\n",
        "    questions_test,\n",
        "    contexts_test,\n",
        "    max_length=512\n",
        ")"
      ]
    },
    {
      "cell_type": "code",
      "execution_count": null,
      "metadata": {},
      "outputs": [],
      "source": [
        "from datasets import Dataset\n",
        "\n",
        "test_data = {\n",
        "    'input_ids': input_ids_test.tolist(),\n",
        "    'attention_mask': attention_mask_test.tolist(),\n",
        "    'token_type_ids': token_type_ids_test.tolist(),\n",
        "    'labels': df_test['label'].tolist()\n",
        "}\n",
        "\n",
        "test_dataset = Dataset.from_dict(test_data)"
      ]
    },
    {
      "cell_type": "code",
      "execution_count": null,
      "metadata": {},
      "outputs": [],
      "source": [
        "predictions_output = trainer.predict(test_dataset)\n",
        "logits = predictions_output.predictions\n",
        "labels = predictions_output.label_ids"
      ]
    },
    {
      "cell_type": "code",
      "execution_count": null,
      "metadata": {},
      "outputs": [
        {
          "name": "stdout",
          "output_type": "stream",
          "text": [
            "Classification Report:\n",
            "              precision    recall  f1-score   support\n",
            "\n",
            "         yes       0.97      0.85      0.90       552\n",
            "          no       0.79      0.96      0.87       338\n",
            "\n",
            "    accuracy                           0.89       890\n",
            "   macro avg       0.88      0.90      0.89       890\n",
            "weighted avg       0.90      0.89      0.89       890\n",
            "\n"
          ]
        },
        {
          "data": {
            "image/png": "[encoded data removed]",
            "text/plain": [
              "<Figure size 640x480 with 2 Axes>"
            ]
          },
          "metadata": {},
          "output_type": "display_data"
        }
      ],
      "source": [
        "import numpy as np\n",
        "from sklearn.metrics import confusion_matrix, classification_report\n",
        "import seaborn as sns\n",
        "import matplotlib.pyplot as plt\n",
        "\n",
        "# Get predicted class\n",
        "preds = np.argmax(logits, axis=1)\n",
        "\n",
        "# Print classification report\n",
        "print(\"Classification Report:\")\n",
        "print(classification_report(labels, preds, target_names=['yes', 'no']))  # Adjust names if needed\n",
        "\n",
        "# Confusion matrix\n",
        "cm = confusion_matrix(labels, preds)\n",
        "sns.heatmap(cm, annot=True, fmt='d', cmap='Blues',\n",
        "            xticklabels=['yes', 'no'],\n",
        "            yticklabels=['yes', 'no'])\n",
        "plt.xlabel(\"Predicted\")\n",
        "plt.ylabel(\"True\")\n",
        "plt.title(\"Confusion Matrix\")\n",
        "plt.show()"
      ]
    }
  ],
  "metadata": {
    "accelerator": "GPU",
    "colab": {
      "gpuType": "T4",
      "provenance": []
    },
    "kernelspec": {
      "display_name": ".venv",
      "language": "python",
      "name": "python3"
    },
    "language_info": {
      "codemirror_mode": {
        "name": "ipython",
        "version": 3
      },
      "file_extension": ".py",
      "mimetype": "text/x-python",
      "name": "python",
      "nbconvert_exporter": "python",
      "pygments_lexer": "ipython3",
      "version": "3.10.10"
    }
  },
  "nbformat": 4,
  "nbformat_minor": 0
}
