{
 "cells": [
  {
   "cell_type": "markdown",
   "id": "42593a0d",
   "metadata": {},
   "source": [
    "# Biomedical QA classification using PubMedBERT"
   ]
  },
  {
   "cell_type": "code",
   "execution_count": null,
   "id": "1cffd6c9",
   "metadata": {},
   "outputs": [],
   "source": [
    "# --- Load Dataset ---\n",
    "from datasets import load_dataset\n",
    "import pandas as pd\n",
    "\n",
    "dataset_labeled = load_dataset(\"qiaojin/PubMedQA\", 'pqa_labeled')\n",
    "dataset_unlabeled = load_dataset(\"qiaojin/PubMedQA\", 'pqa_unlabeled')\n",
    "dataset_artificial = load_dataset('qiaojin/PubMedQA', 'pqa_artificial')"
   ]
  },
  {
   "cell_type": "code",
   "execution_count": null,
   "id": "ccfa9c19",
   "metadata": {},
   "outputs": [],
   "source": [
    "df_labeled = pd.DataFrame(dataset_labeled['train'])\n",
    "df_unlabeled = pd.DataFrame(dataset_unlabeled['train'])\n",
    "df_artificial = pd.DataFrame(dataset_artificial['train'])"
   ]
  },
  {
   "cell_type": "code",
   "execution_count": null,
   "id": "ab111787",
   "metadata": {},
   "outputs": [],
   "source": [
    "# --- Preprocessing ---\n",
    "df_labeled = df_labeled[df_labeled['final_decision'] != \"maybe\"]\n",
    "\n",
    "label_map = {'yes': 0, 'no': 1}\n",
    "df_labeled['label'] = df_labeled['final_decision'].map(label_map)\n",
    "df_artificial['label'] = df_artificial['final_decision'].map(label_map)\n",
    "\n",
    "df_labeled_final = df_labeled[['question', 'long_answer', 'label']]\n",
    "df_artificial_final = df_artificial[['question', 'long_answer', 'label']]"
   ]
  },
  {
   "cell_type": "code",
   "execution_count": null,
   "id": "2aee545d",
   "metadata": {},
   "outputs": [],
   "source": [
    "# Balance Artificial Dataset (Downsampling)\n",
    "df_artificial_final = df_artificial_final.groupby('label').sample(\n",
    "    n=min(df_artificial_final['label'].value_counts()), random_state=42\n",
    ")\n",
    "df_artificial_final = df_artificial_final.sample(frac=1, random_state=42)"
   ]
  },
  {
   "cell_type": "code",
   "execution_count": null,
   "id": "d366f3a7",
   "metadata": {},
   "outputs": [],
   "source": [
    "# Train/Validation Split\n",
    "from sklearn.model_selection import train_test_split\n",
    "\n",
    "df_train_split, df_val_split = train_test_split(\n",
    "    df_artificial_final,\n",
    "    test_size=0.1,\n",
    "    random_state=42,\n",
    "    stratify=df_artificial_final['label']\n",
    ")\n",
    "\n",
    "df_test = df_labeled_final"
   ]
  },
  {
   "cell_type": "markdown",
   "id": "5e88a058",
   "metadata": {},
   "source": [
    "## Tokenization"
   ]
  },
  {
   "cell_type": "code",
   "execution_count": null,
   "id": "d06b8665",
   "metadata": {},
   "outputs": [],
   "source": [
    "from transformers import AutoTokenizer\n",
    "\n",
    "tokenizer = AutoTokenizer.from_pretrained('microsoft/BiomedNLP-PubMedBERT-base-uncased-abstract')\n",
    "\n",
    "def encode_data(tokenizer, questions, contexts, max_length):\n",
    "    encoding = tokenizer(\n",
    "        questions,\n",
    "        contexts,\n",
    "        truncation=True,\n",
    "        padding='max_length',\n",
    "        max_length=max_length,\n",
    "        return_tensors='pt'\n",
    "    )\n",
    "    return encoding['input_ids'], encoding['attention_mask'], encoding['token_type_ids']\n",
    "\n",
    "# Encode Train\n",
    "input_ids, attention_mask, token_type_ids = encode_data(\n",
    "    tokenizer,\n",
    "    df_train_split['question'].tolist(),\n",
    "    df_train_split['long_answer'].tolist(),\n",
    "    max_length=512\n",
    ")\n",
    "\n",
    "# Encode Validation\n",
    "input_ids_val, attention_mask_val, token_type_ids_val = encode_data(\n",
    "    tokenizer,\n",
    "    df_val_split['question'].tolist(),\n",
    "    df_val_split['long_answer'].tolist(),\n",
    "    max_length=512\n",
    ")\n"
   ]
  },
  {
   "cell_type": "markdown",
   "id": "9525d7b0",
   "metadata": {},
   "source": [
    "## Training PubMedBERT"
   ]
  },
  {
   "cell_type": "code",
   "execution_count": null,
   "id": "54a5353f",
   "metadata": {},
   "outputs": [],
   "source": [
    "from transformers import AutoModelForSequenceClassification, Trainer, TrainingArguments\n",
    "from datasets import Dataset\n",
    "\n",
    "model = AutoModelForSequenceClassification.from_pretrained(\n",
    "    'microsoft/BiomedNLP-PubMedBERT-base-uncased-abstract',\n",
    "    num_labels=2\n",
    ")\n",
    "\n",
    "# Prepare HuggingFace datasets\n",
    "train_ds = Dataset.from_dict({\n",
    "    'input_ids': input_ids.tolist(),\n",
    "    'attention_mask': attention_mask.tolist(),\n",
    "    'token_type_ids': token_type_ids.tolist(),\n",
    "    'labels': df_train_split['label'].tolist()\n",
    "})\n",
    "\n",
    "val_ds = Dataset.from_dict({\n",
    "    'input_ids': input_ids_val.tolist(),\n",
    "    'attention_mask': attention_mask_val.tolist(),\n",
    "    'token_type_ids': token_type_ids_val.tolist(),\n",
    "    'labels': df_val_split['label'].tolist()\n",
    "})\n",
    "\n",
    "training_args = TrainingArguments(\n",
    "    output_dir='./results_pubmedbert',\n",
    "    num_train_epochs=1,\n",
    "    per_device_train_batch_size=2,\n",
    "    per_device_eval_batch_size=2,\n",
    "    gradient_accumulation_steps=4,\n",
    "    warmup_steps=100,\n",
    "    weight_decay=0.01,\n",
    "    logging_dir='./logs_pubmedbert',\n",
    "    logging_steps=100,\n",
    "    save_strategy=\"epoch\",\n",
    "    metric_for_best_model=\"eval_loss\",\n",
    "    fp16=True,\n",
    ")\n",
    "\n",
    "trainer = Trainer(\n",
    "    model=model,\n",
    "    args=training_args,\n",
    "    train_dataset=train_ds,\n",
    "    eval_dataset=val_ds,\n",
    ")\n",
    "\n",
    "trainer.train()"
   ]
  },
  {
   "cell_type": "markdown",
   "id": "243d85aa",
   "metadata": {},
   "source": [
    "## Testing"
   ]
  },
  {
   "cell_type": "code",
   "execution_count": null,
   "id": "bd54d459",
   "metadata": {},
   "outputs": [],
   "source": [
    "input_ids_test, attention_mask_test, token_type_ids_test = encode_data(\n",
    "    tokenizer,\n",
    "    df_test['question'].tolist(),\n",
    "    df_test['long_answer'].tolist(),\n",
    "    max_length=512\n",
    ")\n",
    "\n",
    "test_dataset = Dataset.from_dict({\n",
    "    'input_ids': input_ids_test.tolist(),\n",
    "    'attention_mask': attention_mask_test.tolist(),\n",
    "    'token_type_ids': token_type_ids_test.tolist(),\n",
    "    'labels': df_test['label'].tolist()\n",
    "})\n",
    "\n"
   ]
  },
  {
   "cell_type": "code",
   "execution_count": null,
   "id": "f6819c59",
   "metadata": {},
   "outputs": [
    {
     "name": "stdout",
     "output_type": "stream",
     "text": [
      "Classification Report:\n",
      "              precision    recall  f1-score   support\n",
      "\n",
      "         yes       0.96      0.82      0.88       552\n",
      "          no       0.76      0.95      0.84       338\n",
      "\n",
      "    accuracy                           0.87       890\n",
      "   macro avg       0.86      0.88      0.86       890\n",
      "weighted avg       0.88      0.87      0.87       890\n",
      "\n"
     ]
    },
    {
     "data": {
      "image/png": "[encoded data removed]",
      "text/plain": [
       "<Figure size 640x480 with 2 Axes>"
      ]
     },
     "metadata": {},
     "output_type": "display_data"
    }
   ],
   "source": [
    "import numpy as np\n",
    "from sklearn.metrics import confusion_matrix, classification_report\n",
    "import seaborn as sns\n",
    "import matplotlib.pyplot as plt\n",
    "\n",
    "predictions_output = trainer.predict(test_dataset)\n",
    "logits = predictions_output.predictions\n",
    "labels = predictions_output.label_ids\n",
    "preds = np.argmax(logits, axis=1)\n",
    "\n",
    "print(\"Classification Report:\")\n",
    "print(classification_report(labels, preds, target_names=['yes', 'no']))\n",
    "\n",
    "cm = confusion_matrix(labels, preds)\n",
    "sns.heatmap(cm, annot=True, fmt='d', cmap='Blues',\n",
    "            xticklabels=['yes', 'no'],\n",
    "            yticklabels=['yes', 'no'])\n",
    "plt.xlabel(\"Predicted\")\n",
    "plt.ylabel(\"True\")\n",
    "plt.title(\"Confusion Matrix\")\n",
    "plt.show()"
   ]
  }
 ],
 "metadata": {
  "kernelspec": {
   "display_name": ".venv",
   "language": "python",
   "name": "python3"
  },
  "language_info": {
   "codemirror_mode": {
    "name": "ipython",
    "version": 3
   },
   "file_extension": ".py",
   "mimetype": "text/x-python",
   "name": "python",
   "nbconvert_exporter": "python",
   "pygments_lexer": "ipython3",
   "version": "3.10.10"
  }
 },
 "nbformat": 4,
 "nbformat_minor": 5
}
