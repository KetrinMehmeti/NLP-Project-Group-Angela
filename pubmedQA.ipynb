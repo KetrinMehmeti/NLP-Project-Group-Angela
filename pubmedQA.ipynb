{
 "cells": [
  {
   "cell_type": "markdown",
   "id": "e77cb13d",
   "metadata": {},
   "source": [
    "# Natural Language Processing Project\n",
    "## NLP Course @ Politecnico di Milano 2024/2025 - Prof. Mark Carman\n",
    "### Topic 8: Medical Question Answering\n",
    "Dataset: \n",
    "* PubMedQA [link](https://huggingface.co/datasets/qiaojin/PubMedQA )\n",
    "\n",
    "Reference paper:\n",
    "* PubMedQA: A Dataset for Biomedical Research Question Answering [Link](https://arxiv.org/pdf/1909.06146)"
   ]
  },
  {
   "cell_type": "markdown",
   "id": "98da54ef",
   "metadata": {},
   "source": [
    "## Group members:\n",
    "\n",
    "* Ketrin Mehmeti\n",
    "* Giulia Ghiazza\n",
    "* Leonardo Giorgio Franco\n",
    "* Edoardo Franco Mattei\n",
    "* Alessandro Epifania"
   ]
  },
  {
   "cell_type": "markdown",
   "id": "db3ac59c",
   "metadata": {},
   "source": [
    "## Introduction\n",
    " \n",
    "The PubMedQA dataset is an innovative resource for question answering (QA) in the biomedical field, created from abstracts of scientific articles available on PubMed. The main purpose of PubMedQA is to assess the reasoning and inference abilities of intelligent systems on natural language, particularly within the context of biomedical research texts, which often require the processing of quantitative content.\n",
    "\n",
    "A typical instance in PubMedQA consists of the following components:\n",
    "\n",
    "* A question, which can either be the original title of a research paper or derived from it. For example: \"Do preoperative statins reduce atrial fibrillation after coronary artery bypass grafting?\"\n",
    "\n",
    "* A context, which is the abstract corresponding to the question, excluding its conclusion.\n",
    "\n",
    "* A long answer, represented by the conclusion of the abstract, which is expected to answer the research question.\n",
    "\n",
    "* A short answer in the form of \"yes,\" \"no,\" or \"maybe,\" summarizing the conclusion. In the provided example, the long answer is: \"(Conclusion) Our study indicated that preoperative statin therapy seems to reduce AF development after CABG,\" while the short answer is \"yes.\"\n",
    "\n",
    "The PubMedQA dataset is divided into three subsets:\n",
    "\n",
    "* PQA-L (Labeled): Contains 1k manually annotated instances with yes/no/maybe answers. These annotations were made in two modes: \"reasoning-free,\" where the annotator had access to the long answer, and \"reasoning-required,\" where the annotator could only rely on the context.\n",
    "\n",
    "* PQA-U (Unlabeled): Consists of 61.2k unlabeled instances, made up of PubMed articles with question-form titles and structured abstracts.\n",
    "\n",
    "* PQA-A (Artificial): Includes 211.3k artificially generated instances, where article titles in statement form are converted into questions, and yes/no answers are automatically assigned based on the presence or absence of negations in the original title.\n",
    "\n",
    "A key feature of PubMedQA is that the contexts are generated to directly answer the questions, with both components written by the same authors, ensuring a strong relationship between the question and context. This makes PubMedQA an ideal benchmark for testing the scientific reasoning capabilities of machine reading comprehension models. The dataset often requires reasoning over the quantitative content found in abstracts to answer the questions."
   ]
  },
  {
   "cell_type": "markdown",
   "id": "0e568983",
   "metadata": {},
   "source": [
    "## Preliminary initialization\n",
    "\n",
    "qui inseriamo tutte ciò che bisogna scaricare per far runnare il notebook così non ci sono problemi\n",
    "\n",
    "Eventualmente inseriamo il link della repo se ci sono file da scaricare\n",
    "\n",
    "<mark style=\"background-color: white; color: black;\">\n",
    "pip install datasets  <br>\n",
    "pip install pandas pyarrow <br>\n",
    "pip install transformers <br>\n",
    "pip install torch\n",
    "</mark>\n"
   ]
  },
  {
   "cell_type": "markdown",
   "id": "51674962",
   "metadata": {},
   "source": [
    "## Libraries"
   ]
  },
  {
   "cell_type": "code",
   "execution_count": 2,
   "id": "2e7d32af",
   "metadata": {},
   "outputs": [
    {
     "name": "stderr",
     "output_type": "stream",
     "text": [
      "C:\\Users\\213053\\AppData\\Local\\Packages\\PythonSoftwareFoundation.Python.3.11_qbz5n2kfra8p0\\LocalCache\\local-packages\\Python311\\site-packages\\tqdm\\auto.py:21: TqdmWarning: IProgress not found. Please update jupyter and ipywidgets. See https://ipywidgets.readthedocs.io/en/stable/user_install.html\n",
      "  from .autonotebook import tqdm as notebook_tqdm\n",
      "None of PyTorch, TensorFlow >= 2.0, or Flax have been found. Models won't be available and only tokenizers, configuration and file/data utilities can be used.\n"
     ]
    }
   ],
   "source": [
    "from datasets import load_dataset\n",
    "from transformers import AutoTokenizer"
   ]
  },
  {
   "cell_type": "markdown",
   "id": "45c77415",
   "metadata": {},
   "source": [
    "### Loading the dataset: "
   ]
  },
  {
   "cell_type": "markdown",
   "id": "9e301485",
   "metadata": {},
   "source": [
    "The object dataset is a DatasetDict, which contains different splits like \"train\", \"validation\", and \"test\" if available."
   ]
  },
  {
   "cell_type": "code",
   "execution_count": 3,
   "id": "251ebb7d",
   "metadata": {},
   "outputs": [],
   "source": [
    "# Load the labeled, unlabeled, and artificial subsets of PubMedQA\n",
    "# The dataset is split into three subsets:\n",
    "\n",
    "dataset_labeled = load_dataset(\"qiaojin/PubMedQA\", 'pqa_labeled')               \n",
    "dataset_unlabeled = load_dataset(\"qiaojin/PubMedQA\", 'pqa_unlabeled')    \n",
    "dataset_artificial = load_dataset('qiaojin/PubMedQA', 'pqa_artificial')  "
   ]
  },
  {
   "cell_type": "code",
   "execution_count": null,
   "id": "b61b507b",
   "metadata": {},
   "outputs": [
    {
     "name": "stdout",
     "output_type": "stream",
     "text": [
      "Labeled dataset: DatasetDict({\n",
      "    train: Dataset({\n",
      "        features: ['pubid', 'question', 'context', 'long_answer', 'final_decision'],\n",
      "        num_rows: 1000\n",
      "    })\n",
      "})\n",
      "Artificial dataset: DatasetDict({\n",
      "    train: Dataset({\n",
      "        features: ['pubid', 'question', 'context', 'long_answer', 'final_decision'],\n",
      "        num_rows: 211269\n",
      "    })\n",
      "})\n",
      "Unlabeled dataset: DatasetDict({\n",
      "    train: Dataset({\n",
      "        features: ['pubid', 'question', 'context', 'long_answer'],\n",
      "        num_rows: 61249\n",
      "    })\n",
      "})\n"
     ]
    }
   ],
   "source": [
    "print(\"Labeled dataset:\", dataset_labeled)\n",
    "print(\"Artificial dataset:\", dataset_artificial)\n",
    "print(\"Unlabeled dataset:\", dataset_unlabeled)\n",
    "\n",
    "# Notice that the feature final_decision is missing in the Unlabeled dataset, reflecting the fact \n",
    "# that these examples do not have a definitive yes/no/maybe label."
   ]
  },
  {
   "cell_type": "code",
   "execution_count": 4,
   "id": "ce57c28f",
   "metadata": {},
   "outputs": [
    {
     "name": "stdout",
     "output_type": "stream",
     "text": [
      "dict_keys(['train'])\n",
      "dict_keys(['train'])\n",
      "dict_keys(['train'])\n"
     ]
    }
   ],
   "source": [
    "print(dataset_labeled.keys())\n",
    "print(dataset_artificial.keys())\n",
    "print(dataset_unlabeled.keys())"
   ]
  },
  {
   "cell_type": "code",
   "execution_count": 18,
   "id": "a3900c0a",
   "metadata": {},
   "outputs": [],
   "source": [
    "import pandas as pd\n",
    "\n",
    "# Convert the datasets to pandas DataFrames for easier manipulation\n",
    "df_labeled = pd.DataFrame(dataset_labeled['train'])\n",
    "df_unlabeled = pd.DataFrame(dataset_unlabeled['train'])\n",
    "df_artificial = pd.DataFrame(dataset_artificial['train'])"
   ]
  },
  {
   "cell_type": "markdown",
   "id": "c8a20bb1",
   "metadata": {},
   "source": [
    "## Preliminary analysis"
   ]
  },
  {
   "cell_type": "code",
   "execution_count": null,
   "id": "7ea69304",
   "metadata": {},
   "outputs": [
    {
     "name": "stdout",
     "output_type": "stream",
     "text": [
      "<class 'str'>\n",
      "<class 'str'>\n",
      "<class 'dict'>\n",
      "<class 'str'>\n",
      "<class 'str'>\n",
      "<class 'dict'>\n",
      "<class 'str'>\n",
      "<class 'str'>\n",
      "<class 'dict'>\n",
      "<class 'str'>\n"
     ]
    }
   ],
   "source": [
    "# Check the data types of individual elements in each feature (question, context, long_answer)\n",
    "# across the labeled, unlabeled, and artificial datasets. This is useful to verify that all elements \n",
    "# are strings before applying any text processing or tokenization functions, since functions from \n",
    "# libraries like Hugging Face's Transformers typically expect string inputs.\n",
    "\n",
    "print(type(df_labeled['question'][0]))\n",
    "print(type(df_labeled['context'][0]))\n",
    "print(type(df_labeled['long_answer'][0]))\n",
    "\n",
    "print(type(df_unlabeled['question'][0]))\n",
    "print(type(df_unlabeled['context'][0]))\n",
    "print(type(df_unlabeled['long_answer'][0]))\n",
    "\n",
    "print(type(df_artificial['question'][0]))\n",
    "print(type(df_artificial['context'][0]))\n",
    "print(type(df_artificial['long_answer'][0]))"
   ]
  },
  {
   "cell_type": "markdown",
   "id": "f8bbb07b",
   "metadata": {},
   "source": [
    "## Description of the Expert-Annotated PQA-L Dataset\n",
    "\n",
    "PQA-L is a key subset of the PubMedQA dataset, consisting of 1,000 manually labeled QA instances created for validation and testing. Each instance includes a question (usually a paper title), context (the abstract without the conclusion), a long answer (the conclusion), and a short yes/no/maybe label.\n",
    "\n",
    "Two M.D. candidates annotated the data using two setups:\n",
    "\n",
    "* Reasoning-free: the annotator saw the question, context, and long answer to assign the label directly.\n",
    "\n",
    "* Reasoning-required: the annotator only saw the question and context, requiring inference without the conclusion.\n",
    "\n",
    "Final labels were based on agreement between annotators, with disagreements resolved through discussion or instance removal. This dual-setup design highlights the task's difficulty: human accuracy drops from 90.4% (reasoning-free) to 78.0% (reasoning-required). The labels reflect the certainty or ambiguity of the article’s conclusion."
   ]
  },
  {
   "cell_type": "code",
   "execution_count": null,
   "id": "1f78a7e9",
   "metadata": {},
   "outputs": [
    {
     "name": "stdout",
     "output_type": "stream",
     "text": [
      "contexts: <class 'list'>\n",
      "labels: <class 'list'>\n",
      "meshes: <class 'list'>\n",
      "reasoning_required_pred: <class 'list'>\n",
      "reasoning_free_pred: <class 'list'>\n",
      "contexts: <class 'list'>\n",
      "labels: <class 'list'>\n",
      "meshes: <class 'list'>\n",
      "contexts: <class 'list'>\n",
      "labels: <class 'list'>\n",
      "meshes: <class 'list'>\n"
     ]
    }
   ],
   "source": [
    "# Here we inspect the internal structure of the 'context' field in each dataset.\n",
    "# Each 'context' entry is a dictionary containing multiple keys.\n",
    "# In the labeled dataset, each context includes:\n",
    "# - 'contexts': a list of textual context passages\n",
    "# - 'labels': a list of associated labels\n",
    "# - 'meshes': a list of medical subject headings\n",
    "# - 'reasoning_required_pred': a list indicating whether reasoning is required (only in labeled)\n",
    "# - 'reasoning_free_pred': a list indicating whether the question is reasoning-free (only in labeled)\n",
    "# \n",
    "# In contrast, the unlabeled and artificial datasets contain only:\n",
    "# - 'contexts', 'labels', and 'meshes'\n",
    "# \n",
    "# This structural difference is important when preprocessing the data, \n",
    "# since some fields (e.g., 'reasoning_required_pred') may not be available across all datasets.\n",
    "\n",
    "\n",
    "for key, value in df_labeled['context'][0].items():\n",
    "    print(f\"{key}: {type(value)}\")\n",
    "\n",
    "for key, value in df_unlabeled['context'][0].items():\n",
    "    print(f\"{key}: {type(value)}\")\n",
    "\n",
    "for key, value in df_artificial['context'][0].items():\n",
    "    print(f\"{key}: {type(value)}\")"
   ]
  },
  {
   "cell_type": "code",
   "execution_count": 68,
   "id": "037bfcdb",
   "metadata": {},
   "outputs": [
    {
     "name": "stdout",
     "output_type": "stream",
     "text": [
      "Average number of segments in contexts in the labeled dataset: 3.358\n",
      "Average number of segments in contexts in the unlabeled dataset: 3.3185031592352527\n",
      "Average number of segments in contexts in the artificial dataset: 3.1005732028835276\n"
     ]
    }
   ],
   "source": [
    "# This line calculates the average number of segments (i.e., separate strings) within the 'contexts' field of each instance.\n",
    "# In the PubMedQA dataset, the abstract is split into multiple segments in the 'contexts' list to reflect its original sentence-level structure.\n",
    "# This allows for more granular control when processing biomedical abstracts, especially for tasks that involve reasoning over specific parts of the text.\n",
    "# Note: This does NOT measure the length in characters or words, only the number of abstract segments.\n",
    "\n",
    "print(\"Average number of segments in contexts in the labeled dataset:\", df_labeled['context'].apply(lambda x: len(x['contexts'])).mean())\n",
    "print(\"Average number of segments in contexts in the unlabeled dataset:\", df_unlabeled['context'].apply(lambda x: len(x['contexts'])).mean())\n",
    "print(\"Average number of segments in contexts in the artificial dataset:\", df_artificial['context'].apply(lambda x: len(x['contexts'])).mean())\n"
   ]
  },
  {
   "cell_type": "code",
   "execution_count": null,
   "id": "4c6bb458",
   "metadata": {},
   "outputs": [
    {
     "name": "stdout",
     "output_type": "stream",
     "text": [
      "Average number of words in abstract in the labeled dataset: 200.207\n",
      "Standard deviation of words in abstract in the labeled dataset: 51.84642903038938\n",
      "Average number of words in abstract in the unlabeled dataset: 198.7389018596222\n",
      "Standard deviation of words in abstract in the unlabeled dataset: 56.65423030078211\n",
      "Average number of words in abstract in the artificial dataset: 200.51420700623376\n",
      "Standard deviation of words in abstract in the artificial dataset: 50.70859241655663\n"
     ]
    }
   ],
   "source": [
    "# Here we join all the abstract segments (stored in the 'contexts' list) into a single string for each instance.\n",
    "# This allows us to compute the average abstract length in terms of number of words, rather than number of segments.\n",
    "# It's useful to understand how verbose or detailed the contexts are in natural language.\n",
    "\n",
    "context_word_lengths_L = df_labeled['context'].apply(lambda x: len(\" \".join(x['contexts']).split()))\n",
    "print(\"Average number of words in abstract in the labeled dataset:\", context_word_lengths_L.mean())\n",
    "print(\"Standard deviation of words in abstract in the labeled dataset:\", context_word_lengths_L.std())\n",
    "\n",
    "context_word_lengths_U = df_unlabeled['context'].apply(lambda x: len(\" \".join(x['contexts']).split()))\n",
    "print(\"Average number of words in abstract in the unlabeled dataset:\", context_word_lengths_U.mean())\n",
    "print(\"Standard deviation of words in abstract in the unlabeled dataset:\", context_word_lengths_U.std())\n",
    "\n",
    "context_word_lengths_A = df_artificial['context'].apply(lambda x: len(\" \".join(x['contexts']).split()))\n",
    "print(\"Average number of words in abstract in the artificial dataset:\", context_word_lengths_A.mean())\n",
    "print(\"Standard deviation of words in abstract in the artificial dataset:\", context_word_lengths_A.std())\n",
    "\n",
    "# The average number of words in the abstract ('context') is very similar across the labeled, unlabeled, and artificial datasets,\n",
    "# with means around 200 words. This consistency suggests that the datasets are well-aligned in terms of content length.\n",
    "# Additionally, the standard deviations are comparable, indicating a similar spread and variability in abstract lengths.\n",
    "# These observations support the assumption that the datasets are structurally balanced and comparable for downstream tasks."
   ]
  },
  {
   "cell_type": "code",
   "execution_count": null,
   "id": "4bb48dff",
   "metadata": {},
   "outputs": [
    {
     "name": "stdout",
     "output_type": "stream",
     "text": [
      "Average number of words in question in the labeled dataset: 12.913\n",
      "Standard deviation of words in question in the labeled dataset: 4.100517680152744\n",
      "Average number of words in question in the unlabeled dataset: 13.34506685823442\n",
      "Standard deviation of words in question in the unlabeled dataset: 4.567043839545208\n",
      "Average number of words in question in the artificial dataset: 15.344096862294043\n",
      "Standard deviation of words in question in the artificial dataset: 3.898447348860483\n"
     ]
    }
   ],
   "source": [
    "question_word_lengths_L = df_labeled['question'].apply(lambda x: len(x.split()))\n",
    "print(\"Average number of words in question in the labeled dataset:\", question_word_lengths_L.mean())\n",
    "print(\"Standard deviation of words in question in the labeled dataset:\", question_word_lengths_L.std())\n",
    "\n",
    "question_word_lengths_U = df_unlabeled['question'].apply(lambda x: len(x.split()))\n",
    "print(\"Average number of words in question in the unlabeled dataset:\", question_word_lengths_U.mean())\n",
    "print(\"Standard deviation of words in question in the unlabeled dataset:\", question_word_lengths_U.std())\n",
    "\n",
    "question_word_lengths_A = df_artificial['question'].apply(lambda x: len(x.split()))\n",
    "print(\"Average number of words in question in the artificial dataset:\", question_word_lengths_A.mean())\n",
    "print(\"Standard deviation of words in question in the artificial dataset:\", question_word_lengths_A.std())\n",
    "\n",
    "# The average number of words in the 'question' field is slightly higher in the artificial dataset (~15.3 words)\n",
    "# compared to the labeled (~12.9) and unlabeled (~13.3) datasets. Despite this difference, the standard deviations remain fairly close,\n",
    "# indicating that the overall variability is consistent. This suggests that while artificial questions tend to be a bit longer,\n",
    "# the distribution of their lengths is not drastically different, maintaining a reasonable alignment across datasets."
   ]
  },
  {
   "cell_type": "code",
   "execution_count": null,
   "id": "07d25b46",
   "metadata": {},
   "outputs": [
    {
     "name": "stdout",
     "output_type": "stream",
     "text": [
      "Average number of words in long_answer in the labeled dataset: 39.66\n",
      "Standard deviation of long_answer in the labeled dataset: 17.209432430053138\n",
      "Average number of words in long_answer in the unlabeled dataset: 42.02336364675342\n",
      "Standard deviation of long_answer in the unlabeled dataset: 19.817240489404714\n",
      "Average number of words in long_answer in the artificial dataset: 37.593660215175916\n",
      "Standard deviation of long_answer in the artificial dataset: 18.49701353631026\n"
     ]
    }
   ],
   "source": [
    "long_answ_lengths_L = df_labeled['long_answer'].apply(lambda x: len(x.split()))\n",
    "print(\"Average number of words in long_answer in the labeled dataset:\", long_answ_lengths_L.mean())\n",
    "print(\"Standard deviation of long_answer in the labeled dataset:\", long_answ_lengths_L.std())\n",
    "\n",
    "long_answ_lengths_U = df_unlabeled['long_answer'].apply(lambda x: len(x.split()))\n",
    "print(\"Average number of words in long_answer in the unlabeled dataset:\", long_answ_lengths_U.mean())\n",
    "print(\"Standard deviation of long_answer in the unlabeled dataset:\", long_answ_lengths_U.std())\n",
    "\n",
    "long_answ_lengths_A = df_artificial['long_answer'].apply(lambda x: len(x.split()))\n",
    "print(\"Average number of words in long_answer in the artificial dataset:\", long_answ_lengths_A.mean())\n",
    "print(\"Standard deviation of long_answer in the artificial dataset:\", long_answ_lengths_A.std())\n",
    "\n",
    "# The average number of words in the 'long_answer' field is relatively similar across the three datasets,\n",
    "# ranging from approximately 37.6 to 42.0 words. The standard deviations are also comparable,\n",
    "# suggesting that the variability in long answer lengths is consistent. Overall, there are no significant discrepancies in length distribution."
   ]
  },
  {
   "cell_type": "code",
   "execution_count": 85,
   "id": "865798cd",
   "metadata": {},
   "outputs": [
    {
     "data": {
      "image/png": "[encoded data removed]",
      "text/plain": [
       "<Figure size 1200x500 with 2 Axes>"
      ]
     },
     "metadata": {},
     "output_type": "display_data"
    }
   ],
   "source": [
    "# Create subplots with shared y-axis to ensure the same scale across both bar plots.\n",
    "# This makes it easier to visually compare the distribution of 'yes', 'no', and 'maybe' labels\n",
    "# between the labeled and artificial datasets.\n",
    "\n",
    "import matplotlib.pyplot as plt\n",
    "\n",
    "# Count label frequencies\n",
    "labeled_counts = df_labeled['final_decision'].value_counts(normalize=True) * 100  \n",
    "artificial_counts = df_artificial['final_decision'].value_counts(normalize=True) * 100\n",
    "\n",
    "# Create subplots\n",
    "fig, axes = plt.subplots(1, 2, figsize=(12, 5), sharey=True)\n",
    "\n",
    "# Plot labeled dataset\n",
    "axes[0].bar(labeled_counts.index, labeled_counts.values, color=['green', 'red', 'gray'])\n",
    "axes[0].set_title(\"Labeled Dataset\")\n",
    "axes[0].set_ylabel(\"Percentage\")\n",
    "axes[0].set_ylim(0, 100)\n",
    "\n",
    "# Plot artificial dataset\n",
    "axes[1].bar(artificial_counts.index, artificial_counts.values, color=['green', 'red', 'gray'])\n",
    "axes[1].set_title(\"Artificial Dataset\")\n",
    "axes[1].set_ylim(0, 100)\n",
    "\n",
    "plt.suptitle(\"Label Distribution (Yes / No / Maybe)\")\n",
    "plt.tight_layout()\n",
    "plt.show()\n"
   ]
  },
  {
   "cell_type": "code",
   "execution_count": null,
   "id": "c3b7f3d4",
   "metadata": {},
   "outputs": [],
   "source": []
  }
 ],
 "metadata": {
  "kernelspec": {
   "display_name": "Python 3",
   "language": "python",
   "name": "python3"
  },
  "language_info": {
   "codemirror_mode": {
    "name": "ipython",
    "version": 3
   },
   "file_extension": ".py",
   "mimetype": "text/x-python",
   "name": "python",
   "nbconvert_exporter": "python",
   "pygments_lexer": "ipython3",
   "version": "3.11.9"
  }
 },
 "nbformat": 4,
 "nbformat_minor": 5
}
