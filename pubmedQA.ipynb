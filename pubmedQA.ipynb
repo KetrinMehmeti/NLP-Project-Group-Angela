{
 "cells": [
  {
   "cell_type": "markdown",
   "id": "e77cb13d",
   "metadata": {},
   "source": [
    "# Medical Question Answering : PubMedQA"
   ]
  },
  {
   "cell_type": "markdown",
   "id": "98da54ef",
   "metadata": {},
   "source": [
    "Ketrin Mehmeti, Giulia Ghiazza, Leonardo Giorgio Franco, Edoardo Mattei, Alessandro Epifania"
   ]
  },
  {
   "cell_type": "markdown",
   "id": "45c77415",
   "metadata": {},
   "source": [
    "### Loading the dataset: "
   ]
  },
  {
   "cell_type": "markdown",
   "id": "9e301485",
   "metadata": {},
   "source": [
    "The object dataset is a DatasetDict, which contains different splits like \"train\", \"validation\", and \"test\" if available."
   ]
  },
  {
   "cell_type": "code",
   "execution_count": null,
   "id": "84b93d49",
   "metadata": {},
   "outputs": [
    {
     "name": "stdout",
     "output_type": "stream",
     "text": [
      "Requirement already satisfied: pandas in c:\\users\\213053\\appdata\\local\\packages\\pythonsoftwarefoundation.python.3.11_qbz5n2kfra8p0\\localcache\\local-packages\\python311\\site-packages (2.2.3)\n",
      "Requirement already satisfied: pyarrow in c:\\users\\213053\\appdata\\local\\packages\\pythonsoftwarefoundation.python.3.11_qbz5n2kfra8p0\\localcache\\local-packages\\python311\\site-packages (19.0.1)\n",
      "Requirement already satisfied: numpy>=1.23.2 in c:\\users\\213053\\appdata\\local\\packages\\pythonsoftwarefoundation.python.3.11_qbz5n2kfra8p0\\localcache\\local-packages\\python311\\site-packages (from pandas) (2.2.5)\n",
      "Requirement already satisfied: python-dateutil>=2.8.2 in c:\\users\\213053\\appdata\\local\\packages\\pythonsoftwarefoundation.python.3.11_qbz5n2kfra8p0\\localcache\\local-packages\\python311\\site-packages (from pandas) (2.9.0.post0)\n",
      "Requirement already satisfied: pytz>=2020.1 in c:\\users\\213053\\appdata\\local\\packages\\pythonsoftwarefoundation.python.3.11_qbz5n2kfra8p0\\localcache\\local-packages\\python311\\site-packages (from pandas) (2025.2)\n",
      "Requirement already satisfied: tzdata>=2022.7 in c:\\users\\213053\\appdata\\local\\packages\\pythonsoftwarefoundation.python.3.11_qbz5n2kfra8p0\\localcache\\local-packages\\python311\\site-packages (from pandas) (2025.2)\n",
      "Requirement already satisfied: six>=1.5 in c:\\users\\213053\\appdata\\local\\packages\\pythonsoftwarefoundation.python.3.11_qbz5n2kfra8p0\\localcache\\local-packages\\python311\\site-packages (from python-dateutil>=2.8.2->pandas) (1.17.0)\n",
      "Note: you may need to restart the kernel to use updated packages.\n"
     ]
    },
    {
     "name": "stderr",
     "output_type": "stream",
     "text": [
      "\n",
      "[notice] A new release of pip is available: 24.0 -> 25.0.1\n",
      "[notice] To update, run: C:\\Users\\213053\\AppData\\Local\\Microsoft\\WindowsApps\\PythonSoftwareFoundation.Python.3.11_qbz5n2kfra8p0\\python.exe -m pip install --upgrade pip\n"
     ]
    }
   ],
   "source": [
    "pip install pandas pyarrow\n",
    "\n",
    "#SCARICATE QUESTA LIBRERIA SE NO NON VA UNA MINCHIA"
   ]
  },
  {
   "cell_type": "code",
   "execution_count": null,
   "id": "67822af4",
   "metadata": {},
   "outputs": [],
   "source": [
    "import pandas as pd\n",
    "\n",
    "# INSERITE LE DIRECTORY DELLE CARTELLE CHE CONTENGONO I FILE .PARQUET\n",
    "\n",
    "\n",
    "df_artificial = pd.read_parquet(r'C:\\Users\\213053\\OneDrive\\Desktop\\Magistrale\\Natural language processing\\Progetto\\PubMedQA\\pqa_artificial')\n",
    "df_labeled = pd.read_parquet(r'C:\\Users\\213053\\OneDrive\\Desktop\\Magistrale\\Natural language processing\\Progetto\\PubMedQA\\pqa_labeled')\n",
    "df_unlabeled = pd.read_parquet(r'C:\\Users\\213053\\OneDrive\\Desktop\\Magistrale\\Natural language processing\\Progetto\\PubMedQA\\pqa_unlabeled')"
   ]
  },
  {
   "cell_type": "code",
   "execution_count": 22,
   "id": "85061fa0",
   "metadata": {},
   "outputs": [
    {
     "name": "stdout",
     "output_type": "stream",
     "text": [
      "      pubid                                           question  \\\n",
      "0  25429730  Are group 2 innate lymphoid cells ( ILC2s ) in...   \n",
      "1  25433161  Does vagus nerve contribute to the development...   \n",
      "2  25445714  Does psammaplin A induce Sirtuin 1-dependent a...   \n",
      "3  25431941  Is methylation of the FGFR2 gene associated wi...   \n",
      "4  25432519  Do tumor-infiltrating immune cell profiles and...   \n",
      "\n",
      "                                             context  \\\n",
      "0  {'contexts': ['Chronic rhinosinusitis (CRS) is...   \n",
      "1  {'contexts': ['Phosphatidylethanolamine N-meth...   \n",
      "2  {'contexts': ['Psammaplin A (PsA) is a natural...   \n",
      "3  {'contexts': ['This study examined links betwe...   \n",
      "4  {'contexts': ['Tumor microenvironment immunity...   \n",
      "\n",
      "                                         long_answer final_decision  \n",
      "0  As ILC2s are elevated in patients with CRSwNP,...            yes  \n",
      "1  Neuronal signals via the hepatic vagus nerve c...            yes  \n",
      "2  PsA significantly inhibited MCF-7/adr cells pr...            yes  \n",
      "3  We identified a novel biologically plausible c...            yes  \n",
      "4  Breast cancer immune cell subpopulation profil...            yes  \n"
     ]
    }
   ],
   "source": [
    "\n",
    "# Mostra le prime righe\n",
    "print(df_artificial.head())\n"
   ]
  },
  {
   "cell_type": "code",
   "execution_count": null,
   "id": "6a707cfa",
   "metadata": {},
   "outputs": [
    {
     "name": "stdout",
     "output_type": "stream",
     "text": [
      "      pubid                                           question  \\\n",
      "0  21645374  Do mitochondria play a role in remodelling lac...   \n",
      "1  16418930  Landolt C and snellen e acuity: differences in...   \n",
      "2   9488747  Syncope during bathing in infants, a pediatric...   \n",
      "3  17208539  Are the long-term results of the transanal pul...   \n",
      "4  10808977  Can tailored interventions increase mammograph...   \n",
      "\n",
      "                                             context  \\\n",
      "0  {'contexts': ['Programmed cell death (PCD) is ...   \n",
      "1  {'contexts': ['Assessment of visual acuity dep...   \n",
      "2  {'contexts': ['Apparent life-threatening event...   \n",
      "3  {'contexts': ['The transanal endorectal pull-t...   \n",
      "4  {'contexts': ['Telephone counseling and tailor...   \n",
      "\n",
      "                                         long_answer final_decision  \n",
      "0  Results depicted mitochondrial dynamics in viv...            yes  \n",
      "1  Using the charts described, there was only a s...             no  \n",
      "2  \"Aquagenic maladies\" could be a pediatric form...            yes  \n",
      "3  Our long-term study showed significantly bette...             no  \n",
      "4  The effects of the intervention were most pron...            yes  \n"
     ]
    }
   ],
   "source": [
    "print(df_labeled.head())"
   ]
  },
  {
   "cell_type": "code",
   "execution_count": 24,
   "id": "c0f541b6",
   "metadata": {},
   "outputs": [
    {
     "name": "stdout",
     "output_type": "stream",
     "text": [
      "      pubid                                           question  \\\n",
      "0  14499029  Is naturopathy as effective as conventional th...   \n",
      "1  14499049  Can randomised trials rely on existing electro...   \n",
      "2  14499672  Is laparoscopic radical prostatectomy better t...   \n",
      "3  14499773  Does bacterial gastroenteritis predispose peop...   \n",
      "4  14499777  Is early colonoscopy after admission for acute...   \n",
      "\n",
      "                                             context  \\\n",
      "0  {'contexts': ['Although the use of alternative...   \n",
      "1  {'contexts': ['To estimate the feasibility, ut...   \n",
      "2  {'contexts': ['To compare morbidity in two gro...   \n",
      "3  {'contexts': ['Irritable bowel syndrome (IBS) ...   \n",
      "4  {'contexts': ['Urgent colonoscopy has been pro...   \n",
      "\n",
      "                                         long_answer  \n",
      "0  Naturopathy appears to be an effective alterna...  \n",
      "1  Routine data have the potential to support hea...  \n",
      "2  The results of our non-randomized study show t...  \n",
      "3  Symptoms consistent with IBS and functional di...  \n",
      "4  No significant association is apparent between...  \n"
     ]
    }
   ],
   "source": [
    "print(df_unlabeled.head())"
   ]
  },
  {
   "cell_type": "code",
   "execution_count": null,
   "id": "2d007292",
   "metadata": {},
   "outputs": [],
   "source": []
  }
 ],
 "metadata": {
  "kernelspec": {
   "display_name": "Python 3",
   "language": "python",
   "name": "python3"
  },
  "language_info": {
   "codemirror_mode": {
    "name": "ipython",
    "version": 3
   },
   "file_extension": ".py",
   "mimetype": "text/x-python",
   "name": "python",
   "nbconvert_exporter": "python",
   "pygments_lexer": "ipython3",
   "version": "3.11.9"
  }
 },
 "nbformat": 4,
 "nbformat_minor": 5
}
